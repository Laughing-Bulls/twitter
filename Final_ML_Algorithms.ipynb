{
  "nbformat": 4,
  "nbformat_minor": 0,
  "metadata": {
    "colab": {
      "name": "Final_ML_Algorithms.ipynb",
      "provenance": [],
      "authorship_tag": "ABX9TyOudX/GooUh0pNbcYN9D7Hu",
      "include_colab_link": true
    },
    "kernelspec": {
      "name": "python3",
      "display_name": "Python 3"
    },
    "language_info": {
      "name": "python"
    }
  },
  "cells": [
    {
      "cell_type": "markdown",
      "metadata": {
        "id": "view-in-github",
        "colab_type": "text"
      },
      "source": [
        "<a href=\"https://colab.research.google.com/github/Laughing-Bulls/twitter/blob/main/Final_ML_Algorithms.ipynb\" target=\"_parent\"><img src=\"https://colab.research.google.com/assets/colab-badge.svg\" alt=\"Open In Colab\"/></a>"
      ]
    },
    {
      "cell_type": "markdown",
      "source": [
        "In order to decide what machine learning algorithm we should implement for the sentiment analysis of tweets, let's go ahead and do some exploratory analysis:\n"
      ],
      "metadata": {
        "id": "kFH61-rDEviT"
      }
    },
    {
      "cell_type": "markdown",
      "source": [
        "**1. Set up:**"
      ],
      "metadata": {
        "id": "p_bw7RIJMTps"
      }
    },
    {
      "cell_type": "code",
      "execution_count": 1,
      "metadata": {
        "colab": {
          "base_uri": "https://localhost:8080/"
        },
        "id": "RBMYhik5gVGH",
        "outputId": "1c844fcc-03c7-4ea2-af91-fa9b789373cd"
      },
      "outputs": [
        {
          "output_type": "stream",
          "name": "stdout",
          "text": [
            "Requirement already satisfied: pyspark in /usr/local/lib/python3.7/dist-packages (3.2.0)\n",
            "Requirement already satisfied: py4j==0.10.9.2 in /usr/local/lib/python3.7/dist-packages (from pyspark) (0.10.9.2)\n"
          ]
        }
      ],
      "source": [
        "# Load the packages required\n",
        "\n",
        "!pip install pyspark\n",
        "\n",
        "from pyspark.mllib.regression import LabeledPoint\n",
        "from pyspark.ml.feature import HashingTF\n",
        "from pyspark import SparkConf, SparkContext\n",
        "from pyspark.ml.classification import LogisticRegression, NaiveBayes\n",
        "from pyspark.sql.session import SparkSession\n",
        "from pyspark.sql.functions import split, regexp_replace\n",
        "from numpy import array\n",
        "import numpy as np"
      ]
    },
    {
      "cell_type": "code",
      "execution_count": null,
      "metadata": {
        "id": "enzaJgzEOYux"
      },
      "outputs": [],
      "source": [
        "# Boilerplate Spark stuff:\n",
        "conf = SparkConf().setMaster(\"local\").setAppName(\"SparkDecisionTree\")\n",
        "sc = SparkContext(conf = conf)\n",
        "spark = SparkSession(sc)"
      ]
    },
    {
      "cell_type": "markdown",
      "source": [
        "**2. Load and prepare the necessary data:**"
      ],
      "metadata": {
        "id": "RavAasieMc_P"
      }
    },
    {
      "cell_type": "code",
      "execution_count": 3,
      "metadata": {
        "colab": {
          "base_uri": "https://localhost:8080/"
        },
        "id": "e3RexllVOa0o",
        "outputId": "fbebe473-2875-475e-e434-3e8e7aa2ba9c"
      },
      "outputs": [
        {
          "output_type": "stream",
          "name": "stdout",
          "text": [
            "train data types:  [('_c0', 'int'), ('score', 'int'), ('words', 'string')]\n",
            "test data types:  [('_c0', 'int'), ('score', 'int'), ('words', 'string')] \n",
            "\n",
            "updated train data types:  [('_c0', 'int'), ('score', 'int'), ('words', 'array<string>')]\n",
            "updated test data types:  [('_c0', 'int'), ('score', 'int'), ('words', 'array<string>')] \n",
            "\n",
            "train overview: \n",
            "+---+-----+--------------------+\n",
            "|_c0|score|               words|\n",
            "+---+-----+--------------------+\n",
            "|  0|    0|['bummer',  'shou...|\n",
            "|  1|    0|['upset',  'that'...|\n",
            "|  2|    0|['dive',  'mani',...|\n",
            "|  3|    0|['whole',  'bodi'...|\n",
            "|  4|    0|['no',  'it',  'n...|\n",
            "+---+-----+--------------------+\n",
            "only showing top 5 rows\n",
            "\n",
            "test overview: \n",
            "+---+-----+--------------------+\n",
            "|_c0|score|               words|\n",
            "+---+-----+--------------------+\n",
            "|  0|    4|['loooooooovvvvvv...|\n",
            "|  1|    4|['read',  'kindl'...|\n",
            "|  2|    4|['ok',  'first', ...|\n",
            "|  3|    4|['youll',  'love'...|\n",
            "|  4|    4|['fair',  'enough...|\n",
            "+---+-----+--------------------+\n",
            "only showing top 5 rows\n",
            "\n"
          ]
        }
      ],
      "source": [
        "# We read the processed data files\n",
        "# In order to read them like this we need to upload them to the \"Files\" of the Notebook\n",
        "train = spark.read.csv(\"processed_training_tweets.csv\", inferSchema=True, header=True)\n",
        "test = spark.read.csv(\"processed_test_tweets.csv\", inferSchema=True, header=True)\n",
        "\n",
        "# We notice the issue that the \"words\" columns are type \"string\" instead of array<string> like we want\n",
        "print(\"train data types: \", train.dtypes)\n",
        "print(\"test data types: \", test.dtypes, \"\\n\")\n",
        "\n",
        "# We fix this issue and also change the type of the \"score\" column to float \n",
        "train = train.withColumn('words',split(regexp_replace(train[\"words\"], '\\[|\\]',''),',').cast('array<string>'))\n",
        "test = test.withColumn('words',split(regexp_replace(test[\"words\"], '\\[|\\]',''),',').cast('array<string>'))\n",
        "print(\"updated train data types: \", train.dtypes)\n",
        "print(\"updated test data types: \", test.dtypes, \"\\n\")\n",
        "\n",
        "# We remove the neutral tweets (score = 2) from the test data (we are going to be classifying tweets only as positive or negative)\n",
        "test = test[test[\"score\"] != 2]\n",
        "\n",
        "# Preview of the data\n",
        "print(\"train overview: \")\n",
        "train.show(n=5)\n",
        "print(\"test overview: \")\n",
        "test.show(n=5)"
      ]
    },
    {
      "cell_type": "code",
      "execution_count": 4,
      "metadata": {
        "colab": {
          "base_uri": "https://localhost:8080/"
        },
        "id": "4dwtOXy_OfhA",
        "outputId": "ca558e96-4c60-4e92-d7b4-74ae3467f3b2"
      },
      "outputs": [
        {
          "output_type": "stream",
          "name": "stdout",
          "text": [
            "num_train overview: \n",
            "+-----+--------------------+--------------------+\n",
            "|score|               words|           numerical|\n",
            "+-----+--------------------+--------------------+\n",
            "|    0|['bummer',  'shou...|(262144,[46094,74...|\n",
            "|    0|['upset',  'that'...|(262144,[6281,328...|\n",
            "|    0|['dive',  'mani',...|(262144,[34466,53...|\n",
            "|    0|['whole',  'bodi'...|(262144,[14374,27...|\n",
            "|    0|['no',  'it',  'n...|(262144,[6980,420...|\n",
            "+-----+--------------------+--------------------+\n",
            "only showing top 5 rows\n",
            "\n",
            "num_test overview: \n",
            "+-----+--------------------+--------------------+\n",
            "|score|               words|           numerical|\n",
            "+-----+--------------------+--------------------+\n",
            "|    4|['loooooooovvvvvv...|(262144,[6980,228...|\n",
            "|    4|['read',  'kindl'...|(262144,[55161,66...|\n",
            "|    4|['ok',  'first', ...|(262144,[46165,74...|\n",
            "|    4|['youll',  'love'...|(262144,[3486,246...|\n",
            "|    4|['fair',  'enough...|(262144,[22836,74...|\n",
            "+-----+--------------------+--------------------+\n",
            "only showing top 5 rows\n",
            "\n"
          ]
        }
      ],
      "source": [
        "# We now transform the words to a numerical number and keep track of the count\n",
        "hashTF = HashingTF(inputCol=\"words\", outputCol=\"numerical\")\n",
        "num_train= hashTF.transform(train).select('score', 'words', 'numerical')\n",
        "num_test= hashTF.transform(test).select('score', 'words', 'numerical')\n",
        "\n",
        "# Preview of the modified data\n",
        "print(\"num_train overview: \")\n",
        "num_train.show(n=5)\n",
        "print(\"num_test overview: \")\n",
        "num_test.show(n=5)"
      ]
    },
    {
      "cell_type": "markdown",
      "source": [
        "**3. Train different models to find the best one:**"
      ],
      "metadata": {
        "id": "O2iTTYA3Mszp"
      }
    },
    {
      "cell_type": "code",
      "execution_count": 5,
      "metadata": {
        "id": "qV3oXWI_Ohz6"
      },
      "outputs": [],
      "source": [
        "# Logistic Regression Training\n",
        "log_reg = LogisticRegression(labelCol = \"score\", featuresCol=\"numerical\", maxIter = 10, regParam = 0.01).fit(num_train)"
      ]
    },
    {
      "cell_type": "code",
      "execution_count": 6,
      "metadata": {
        "colab": {
          "base_uri": "https://localhost:8080/"
        },
        "id": "3gEO99XXOvIc",
        "outputId": "b32b3281-1a57-4eed-e1bd-f04c64221d73"
      },
      "outputs": [
        {
          "output_type": "stream",
          "name": "stdout",
          "text": [
            "Logistic Regression: \n",
            "\n",
            "results_log_reg overview: \n",
            "+--------------------+----------+-----+\n",
            "|               words|prediction|score|\n",
            "+--------------------+----------+-----+\n",
            "|['loooooooovvvvvv...|       4.0|    4|\n",
            "|['read',  'kindl'...|       4.0|    4|\n",
            "|['ok',  'first', ...|       4.0|    4|\n",
            "|['youll',  'love'...|       0.0|    4|\n",
            "|['fair',  'enough...|       4.0|    4|\n",
            "+--------------------+----------+-----+\n",
            "only showing top 5 rows\n",
            "\n",
            "# Correct predictions: 282 , # Data points: 359 , Accuracy: 0.7855153203342619\n"
          ]
        }
      ],
      "source": [
        "# Logistic Regression Prediction\n",
        "print(\"Logistic Regression: \\n\")\n",
        "pred_log_reg = log_reg.transform(num_test)\n",
        "results_log_reg = pred_log_reg.select(\"words\", \"prediction\", \"score\")\n",
        "print(\"results_log_reg overview: \")\n",
        "results_log_reg.show(n=5)\n",
        "\n",
        "correct_pred_log_reg = results_log_reg.filter(results_log_reg['prediction'] == results_log_reg['score']).count()\n",
        "print(\"# Correct predictions:\", correct_pred_log_reg, \", # Data points:\", results_log_reg.count(),\n",
        "      \", Accuracy:\", correct_pred_log_reg/results_log_reg.count())"
      ]
    },
    {
      "cell_type": "code",
      "source": [
        "# Naive Bayes Training\n",
        "naive_bayes = NaiveBayes(labelCol = \"score\", featuresCol=\"numerical\", smoothing=1.0, modelType=\"multinomial\").fit(num_train)"
      ],
      "metadata": {
        "id": "Q7JDNKnBiXES"
      },
      "execution_count": 7,
      "outputs": []
    },
    {
      "cell_type": "code",
      "source": [
        "# Naive Bayes Prediction\n",
        "print(\"Naive Bayes: \\n\")\n",
        "pred_naive_bayes = naive_bayes.transform(num_test)\n",
        "#accuracy_log_reg =  log_reg.transform(num_test).score\n",
        "results_naive_bayes = pred_naive_bayes.select(\"words\", \"prediction\", \"score\").replace(1.0, 4.0)\n",
        "print(\"results_naive_bayes overview: \")\n",
        "results_naive_bayes.show(n=5)\n",
        "\n",
        "correct_pred_naive_bayes = results_naive_bayes.filter(results_naive_bayes['prediction'] == results_naive_bayes['score']).count()\n",
        "print(\"# Correct predictions:\", correct_pred_naive_bayes, \", # Data points:\", results_naive_bayes.count(),\n",
        "      \", Accuracy:\", correct_pred_naive_bayes/results_naive_bayes.count())"
      ],
      "metadata": {
        "colab": {
          "base_uri": "https://localhost:8080/"
        },
        "id": "b0btqIVsi7wJ",
        "outputId": "47800d21-4731-4b43-ee91-6a0e60e02073"
      },
      "execution_count": 8,
      "outputs": [
        {
          "output_type": "stream",
          "name": "stdout",
          "text": [
            "Naive Bayes: \n",
            "\n",
            "results_naive_bayes overview: \n",
            "+--------------------+----------+-----+\n",
            "|               words|prediction|score|\n",
            "+--------------------+----------+-----+\n",
            "|['loooooooovvvvvv...|       4.0|    4|\n",
            "|['read',  'kindl'...|       4.0|    4|\n",
            "|['ok',  'first', ...|       4.0|    4|\n",
            "|['youll',  'love'...|       4.0|    4|\n",
            "|['fair',  'enough...|       4.0|    4|\n",
            "+--------------------+----------+-----+\n",
            "only showing top 5 rows\n",
            "\n",
            "# Correct predictions: 304 , # Data points: 359 , Accuracy: 0.8467966573816156\n"
          ]
        }
      ]
    },
    {
      "cell_type": "markdown",
      "source": [
        "**4. Results:**\n",
        "\n",
        "We can see that, in this case, the Naive Bayes Prediction Model is the fastest to train. Its training was executed in 37 seconds compared to the almost 4 minutes that it took to train the Logistic Regression Model. Additionally, the Naive Bayes Prediction Model was also the most accurate, making correct predictions for 84.68% of the tweets. In comparison, the Logistic Regression Model made correct predictions 78.55% of the time. \n",
        "\n",
        "Therefore, the model that we are going to implement for the unsupervised sentiment analysis is going to be the Naive Bayes Model, since we were able to observe its efficancy in a supervised setting. "
      ],
      "metadata": {
        "id": "F-EBop9CNDXD"
      }
    }
  ]
}