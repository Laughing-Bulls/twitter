{
  "nbformat": 4,
  "nbformat_minor": 0,
  "metadata": {
    "colab": {
      "name": "Creating_calculate_score.ipynb",
      "provenance": [],
      "authorship_tag": "ABX9TyOywjX7dvdrrbSuBm+r0Yii",
      "include_colab_link": true
    },
    "kernelspec": {
      "name": "python3",
      "display_name": "Python 3"
    },
    "language_info": {
      "name": "python"
    }
  },
  "cells": [
    {
      "cell_type": "markdown",
      "metadata": {
        "id": "view-in-github",
        "colab_type": "text"
      },
      "source": [
        "<a href=\"https://colab.research.google.com/github/Laughing-Bulls/twitter/blob/main/Creating_calculate_score.ipynb\" target=\"_parent\"><img src=\"https://colab.research.google.com/assets/colab-badge.svg\" alt=\"Open In Colab\"/></a>"
      ]
    },
    {
      "cell_type": "code",
      "execution_count": 31,
      "metadata": {
        "colab": {
          "base_uri": "https://localhost:8080/"
        },
        "id": "RBMYhik5gVGH",
        "outputId": "7a249430-b143-4799-b744-5258b453436e"
      },
      "outputs": [
        {
          "output_type": "stream",
          "name": "stdout",
          "text": [
            "Requirement already satisfied: pyspark in /usr/local/lib/python3.7/dist-packages (3.2.0)\n",
            "Requirement already satisfied: py4j==0.10.9.2 in /usr/local/lib/python3.7/dist-packages (from pyspark) (0.10.9.2)\n"
          ]
        }
      ],
      "source": [
        "# Load the packages required\n",
        "\n",
        "!pip install pyspark\n",
        "\n",
        "from pyspark.mllib.regression import LabeledPoint\n",
        "from pyspark.ml.feature import HashingTF\n",
        "from pyspark import SparkConf, SparkContext\n",
        "from pyspark.ml.classification import LogisticRegression, NaiveBayes\n",
        "from pyspark.sql.session import SparkSession\n",
        "from pyspark.sql.functions import split, regexp_replace\n",
        "from numpy import array\n",
        "import numpy as np\n",
        "import pandas as pd\n",
        "from pyspark.sql.types import ArrayType, StringType"
      ]
    },
    {
      "cell_type": "code",
      "execution_count": 3,
      "metadata": {
        "id": "enzaJgzEOYux"
      },
      "outputs": [],
      "source": [
        "# Boilerplate Spark stuff:\n",
        "conf = SparkConf().setMaster(\"local\").setAppName(\"SparkDecisionTree\")\n",
        "sc = SparkContext(conf = conf)\n",
        "spark = SparkSession(sc)"
      ]
    },
    {
      "cell_type": "code",
      "source": [
        "# Train model\n",
        "train = spark.read.csv(\"processed_training_tweets_SMALL.csv\", inferSchema=True, header=True)\n",
        "train = train.withColumn('words',split(regexp_replace(train[\"words\"], '\\[|\\]',''),',').cast('array<string>'))\n",
        "hashTF = HashingTF(inputCol=\"words\", outputCol=\"numerical\")\n",
        "num_train= hashTF.transform(train).select('score', 'words', 'numerical')\n",
        "naive_bayes = NaiveBayes(labelCol = \"score\", featuresCol=\"numerical\", smoothing=1.0, modelType=\"multinomial\").fit(num_train)"
      ],
      "metadata": {
        "id": "WmbZZNwaYRPS"
      },
      "execution_count": 4,
      "outputs": []
    },
    {
      "cell_type": "code",
      "source": [
        "tweet_words = ['this', 'is', 'a', 'processed', 'tweet']\n",
        "\n",
        "column = spark.createDataFrame([tweet_words], ArrayType(StringType())).toDF(\"words\")\n",
        "column.show(n=5)\n",
        "\n",
        "hashTF = HashingTF(inputCol=\"words\", outputCol=\"numerical\")\n",
        "num_column= hashTF.transform(column).select('words', 'numerical')\n",
        "\n",
        "num_column.show(n=5)\n",
        "\n",
        "pred_naive_bayes = naive_bayes.transform(num_column)\n",
        "results_naive_bayes = pred_naive_bayes.select(\"prediction\").replace(1.0, 4.0)\n",
        "results_naive_bayes.show(n=5)\n",
        "\n",
        "results = results_naive_bayes.toPandas()\n",
        "prediction = results.iloc[0,0]\n",
        "prediction\n",
        "\n",
        "print(tweet_words, prediction)\n",
        "\n"
      ],
      "metadata": {
        "colab": {
          "base_uri": "https://localhost:8080/"
        },
        "id": "BrPnmQoDH_5O",
        "outputId": "6327b98f-1c24-4003-aa5e-0b31c84535bf"
      },
      "execution_count": 43,
      "outputs": [
        {
          "output_type": "stream",
          "name": "stdout",
          "text": [
            "+--------------------+\n",
            "|               words|\n",
            "+--------------------+\n",
            "|[this, is, a, pro...|\n",
            "+--------------------+\n",
            "\n",
            "+--------------------+--------------------+\n",
            "|               words|           numerical|\n",
            "+--------------------+--------------------+\n",
            "|[this, is, a, pro...|(262144,[106841,1...|\n",
            "+--------------------+--------------------+\n",
            "\n",
            "+----------+\n",
            "|prediction|\n",
            "+----------+\n",
            "|       4.0|\n",
            "+----------+\n",
            "\n",
            "['this', 'is', 'a', 'processed', 'tweet'] 4.0\n"
          ]
        }
      ]
    }
  ]
}