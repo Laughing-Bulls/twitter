{
  "nbformat": 4,
  "nbformat_minor": 0,
  "metadata": {
    "colab": {
      "name": "Creating_calculate_score.ipynb",
      "provenance": [],
      "authorship_tag": "ABX9TyM2brsWi6o1cjs0w7Nvwh5b",
      "include_colab_link": true
    },
    "kernelspec": {
      "name": "python3",
      "display_name": "Python 3"
    },
    "language_info": {
      "name": "python"
    }
  },
  "cells": [
    {
      "cell_type": "markdown",
      "metadata": {
        "id": "view-in-github",
        "colab_type": "text"
      },
      "source": [
        "<a href=\"https://colab.research.google.com/github/Laughing-Bulls/twitter/blob/main/Creating_calculate_score.ipynb\" target=\"_parent\"><img src=\"https://colab.research.google.com/assets/colab-badge.svg\" alt=\"Open In Colab\"/></a>"
      ]
    },
    {
      "cell_type": "code",
      "execution_count": 42,
      "metadata": {
        "colab": {
          "base_uri": "https://localhost:8080/"
        },
        "id": "RBMYhik5gVGH",
        "outputId": "4ad70199-cc45-47d9-bc29-f46698bc7299"
      },
      "outputs": [
        {
          "output_type": "stream",
          "name": "stdout",
          "text": [
            "Requirement already satisfied: pyspark in /usr/local/lib/python3.7/dist-packages (3.2.0)\n",
            "Requirement already satisfied: py4j==0.10.9.2 in /usr/local/lib/python3.7/dist-packages (from pyspark) (0.10.9.2)\n"
          ]
        }
      ],
      "source": [
        "# Load the packages required\n",
        "\n",
        "!pip install pyspark\n",
        "\n",
        "from pyspark.mllib.regression import LabeledPoint\n",
        "from pyspark.ml.feature import HashingTF\n",
        "from pyspark import SparkConf, SparkContext\n",
        "from pyspark.ml.classification import LogisticRegression, NaiveBayes\n",
        "from pyspark.sql.session import SparkSession\n",
        "from pyspark.sql.functions import split, regexp_replace\n",
        "from numpy import array\n",
        "import numpy as np\n",
        "import pandas as pd\n",
        "from  pyspark.sql import DataFrame"
      ]
    },
    {
      "cell_type": "code",
      "execution_count": null,
      "metadata": {
        "id": "enzaJgzEOYux"
      },
      "outputs": [],
      "source": [
        "# Boilerplate Spark stuff:\n",
        "conf = SparkConf().setMaster(\"local\").setAppName(\"SparkDecisionTree\")\n",
        "sc = SparkContext(conf = conf)\n",
        "spark = SparkSession(sc)"
      ]
    },
    {
      "cell_type": "code",
      "source": [
        "# Train model\n",
        "train = spark.read.csv(\"processed_training_tweets_SMALL.csv\", inferSchema=True, header=True)\n",
        "train = train.withColumn('words',split(regexp_replace(train[\"words\"], '\\[|\\]',''),',').cast('array<string>'))\n",
        "hashTF = HashingTF(inputCol=\"words\", outputCol=\"numerical\")\n",
        "num_train= hashTF.transform(train).select('score', 'words', 'numerical')\n",
        "naive_bayes = NaiveBayes(labelCol = \"score\", featuresCol=\"numerical\", smoothing=1.0, modelType=\"multinomial\").fit(num_train)"
      ],
      "metadata": {
        "id": "WmbZZNwaYRPS"
      },
      "execution_count": null,
      "outputs": []
    },
    {
      "cell_type": "code",
      "source": [
        "# Make prediction on a single processed tweet (dstr)\n",
        "\n",
        "dstr = \"['this', 'is', 'a', 'processed', 'tweet']\"\n",
        "d = {'words': [dstr]}\n",
        "column = pd.DataFrame(data=d).to_csv('column.csv')\n",
        "column = spark.read.csv('column.csv', inferSchema=True, header=True)\n",
        "column = column.withColumn('words',split(regexp_replace(column[\"words\"], '\\[|\\]',''),',').cast('array<string>'))\n",
        "\n",
        "hashTF = HashingTF(inputCol=\"words\", outputCol=\"numerical\")\n",
        "num_column= hashTF.transform(column).select('words', 'numerical')\n",
        "\n",
        "num_column.show(n=5)\n",
        "\n",
        "pred_naive_bayes = naive_bayes.transform(num_column)\n",
        "results_naive_bayes = pred_naive_bayes.select(\"prediction\").replace(1.0, 4.0)\n",
        "results_naive_bayes.show(n=5)\n",
        "\n",
        "results = results_naive_bayes.toPandas()\n",
        "prediction = results.iloc[0,0]\n",
        "prediction"
      ],
      "metadata": {
        "colab": {
          "base_uri": "https://localhost:8080/"
        },
        "id": "wdBMgn9SSRB_",
        "outputId": "2b8a2048-dec3-47ff-eb14-529c9ef0ee85"
      },
      "execution_count": 49,
      "outputs": [
        {
          "output_type": "stream",
          "name": "stdout",
          "text": [
            "+--------------------+--------------------+\n",
            "|               words|           numerical|\n",
            "+--------------------+--------------------+\n",
            "|['this',  'is',  ...|(262144,[35658,47...|\n",
            "+--------------------+--------------------+\n",
            "\n",
            "+----------+\n",
            "|prediction|\n",
            "+----------+\n",
            "|       4.0|\n",
            "+----------+\n",
            "\n"
          ]
        },
        {
          "output_type": "execute_result",
          "data": {
            "text/plain": [
              "4.0"
            ]
          },
          "metadata": {},
          "execution_count": 49
        }
      ]
    }
  ]
}